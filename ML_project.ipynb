{
 "cells": [
  {
   "cell_type": "markdown",
   "id": "99c5f32f",
   "metadata": {},
   "source": [
    "# ML Project"
   ]
  },
  {
   "cell_type": "markdown",
   "id": "fb057051",
   "metadata": {},
   "source": [
    "## Import libraries, get data"
   ]
  },
  {
   "cell_type": "code",
   "execution_count": 6,
   "id": "180b3812",
   "metadata": {},
   "outputs": [],
   "source": [
    "# Libraries\n",
    "\n",
    "import pandas as pd\n",
    "import csv\n",
    "import json\n",
    "import glob\n",
    "\n"
   ]
  },
  {
   "cell_type": "code",
   "execution_count": 7,
   "id": "70dc4c7b",
   "metadata": {},
   "outputs": [],
   "source": [
    "m = []\n",
    "l = []\n",
    "for i in range (1,13):\n",
    "    m += [fr\"C:\\Users\\Ram\\Downloads\\2016_original\\2016\\On_Time_On_Time_Performance_2016_{i}\\On_Time_On_Time_Performance_2016_{i}.csv\"]\n",
    "    l += [fr\"C:\\Users\\Ram\\Downloads\\2017_original\\2017\\On_Time_On_Time_Performance_2017_{i}\\On_Time_On_Time_Performance_2017_{i}.csv\"]\n",
    "l = m+l\n",
    "a = [\"ATL\",\"CLT\",\"DEN\",\"DFW\",\"EWR\",\"IAH\",\"JFK\",\"LAS\",\"LAX\",\"MCO\",\"MIA\",\"ORD\",\"PHX\",\"SEA\"]"
   ]
  },
  {
   "cell_type": "code",
   "execution_count": null,
   "id": "901fb3cd",
   "metadata": {},
   "outputs": [
    {
     "name": "stderr",
     "output_type": "stream",
     "text": [
      "C:\\Users\\Ram\\AppData\\Local\\Temp\\ipykernel_21884\\3667716033.py:1: DtypeWarning: Columns (77) have mixed types. Specify dtype option on import or set low_memory=False.\n",
      "  df1 = pd.read_csv(l[0])\n",
      "C:\\Users\\Ram\\AppData\\Local\\Temp\\ipykernel_21884\\3667716033.py:4: DtypeWarning: Columns (77,84) have mixed types. Specify dtype option on import or set low_memory=False.\n",
      "  df2 = pd.read_csv(l[i])\n",
      "C:\\Users\\Ram\\AppData\\Local\\Temp\\ipykernel_21884\\3667716033.py:4: DtypeWarning: Columns (48,77,84) have mixed types. Specify dtype option on import or set low_memory=False.\n",
      "  df2 = pd.read_csv(l[i])\n",
      "C:\\Users\\Ram\\AppData\\Local\\Temp\\ipykernel_21884\\3667716033.py:4: DtypeWarning: Columns (48,77,84) have mixed types. Specify dtype option on import or set low_memory=False.\n",
      "  df2 = pd.read_csv(l[i])\n",
      "C:\\Users\\Ram\\AppData\\Local\\Temp\\ipykernel_21884\\3667716033.py:4: DtypeWarning: Columns (48,77,84,85) have mixed types. Specify dtype option on import or set low_memory=False.\n",
      "  df2 = pd.read_csv(l[i])\n",
      "C:\\Users\\Ram\\AppData\\Local\\Temp\\ipykernel_21884\\3667716033.py:4: DtypeWarning: Columns (48,77,84) have mixed types. Specify dtype option on import or set low_memory=False.\n",
      "  df2 = pd.read_csv(l[i])\n",
      "C:\\Users\\Ram\\AppData\\Local\\Temp\\ipykernel_21884\\3667716033.py:4: DtypeWarning: Columns (48,77,84) have mixed types. Specify dtype option on import or set low_memory=False.\n",
      "  df2 = pd.read_csv(l[i])\n",
      "C:\\Users\\Ram\\AppData\\Local\\Temp\\ipykernel_21884\\3667716033.py:4: DtypeWarning: Columns (48,77,84) have mixed types. Specify dtype option on import or set low_memory=False.\n",
      "  df2 = pd.read_csv(l[i])\n",
      "C:\\Users\\Ram\\AppData\\Local\\Temp\\ipykernel_21884\\3667716033.py:4: DtypeWarning: Columns (48,77,84) have mixed types. Specify dtype option on import or set low_memory=False.\n",
      "  df2 = pd.read_csv(l[i])\n",
      "C:\\Users\\Ram\\AppData\\Local\\Temp\\ipykernel_21884\\3667716033.py:4: DtypeWarning: Columns (48,77,84) have mixed types. Specify dtype option on import or set low_memory=False.\n",
      "  df2 = pd.read_csv(l[i])\n",
      "C:\\Users\\Ram\\AppData\\Local\\Temp\\ipykernel_21884\\3667716033.py:4: DtypeWarning: Columns (48,69,76,77,84) have mixed types. Specify dtype option on import or set low_memory=False.\n",
      "  df2 = pd.read_csv(l[i])\n",
      "C:\\Users\\Ram\\AppData\\Local\\Temp\\ipykernel_21884\\3667716033.py:4: DtypeWarning: Columns (48,77,84) have mixed types. Specify dtype option on import or set low_memory=False.\n",
      "  df2 = pd.read_csv(l[i])\n",
      "C:\\Users\\Ram\\AppData\\Local\\Temp\\ipykernel_21884\\3667716033.py:4: DtypeWarning: Columns (48,77,84) have mixed types. Specify dtype option on import or set low_memory=False.\n",
      "  df2 = pd.read_csv(l[i])\n",
      "C:\\Users\\Ram\\AppData\\Local\\Temp\\ipykernel_21884\\3667716033.py:4: DtypeWarning: Columns (48,77,84) have mixed types. Specify dtype option on import or set low_memory=False.\n",
      "  df2 = pd.read_csv(l[i])\n",
      "C:\\Users\\Ram\\AppData\\Local\\Temp\\ipykernel_21884\\3667716033.py:4: DtypeWarning: Columns (48,77,84) have mixed types. Specify dtype option on import or set low_memory=False.\n",
      "  df2 = pd.read_csv(l[i])\n",
      "C:\\Users\\Ram\\AppData\\Local\\Temp\\ipykernel_21884\\3667716033.py:4: DtypeWarning: Columns (48,77,84) have mixed types. Specify dtype option on import or set low_memory=False.\n",
      "  df2 = pd.read_csv(l[i])\n",
      "C:\\Users\\Ram\\AppData\\Local\\Temp\\ipykernel_21884\\3667716033.py:4: DtypeWarning: Columns (48,77) have mixed types. Specify dtype option on import or set low_memory=False.\n",
      "  df2 = pd.read_csv(l[i])\n",
      "C:\\Users\\Ram\\AppData\\Local\\Temp\\ipykernel_21884\\3667716033.py:4: DtypeWarning: Columns (48,77,84) have mixed types. Specify dtype option on import or set low_memory=False.\n",
      "  df2 = pd.read_csv(l[i])\n",
      "C:\\Users\\Ram\\AppData\\Local\\Temp\\ipykernel_21884\\3667716033.py:4: DtypeWarning: Columns (48,77,84) have mixed types. Specify dtype option on import or set low_memory=False.\n",
      "  df2 = pd.read_csv(l[i])\n",
      "C:\\Users\\Ram\\AppData\\Local\\Temp\\ipykernel_21884\\3667716033.py:4: DtypeWarning: Columns (48,77,84) have mixed types. Specify dtype option on import or set low_memory=False.\n",
      "  df2 = pd.read_csv(l[i])\n"
     ]
    }
   ],
   "source": [
    "df1 = pd.read_csv(l[0])\n",
    "\n",
    "for i in range(1,len(l)):\n",
    "        df2 = pd.read_csv(l[i])\n",
    "        concat_data = pd.concat([df1, df2], ignore_index=True)\n",
    "        df1 = concat_data\n",
    "\n",
    "columns = ['FlightDate',\"Quarter\",\"Origin\",\"Year\",\"Month\",\"DayofMonth\",\"DepTime\",\"DepDel15\",\"CRSDepTime\",\"DepDelayMinutes\",\"OriginAirportID\",\"DestAirportID\",\"ArrTime\",\"CRSArrTime\",\"ArrDel15\",\"ArrDelayMinutes\"]\n",
    "df1 = pd.DataFrame(df1, columns=columns)\n",
    "df1 =df1[df1[\"DepTime\"].notna()]\n",
    "df1 = df1[df1[\"Origin\"].isin(a)]\n",
    "df1 = df1.iloc[:100]"
   ]
  },
  {
   "cell_type": "code",
   "execution_count": 13,
   "id": "7bfb8c9b",
   "metadata": {},
   "outputs": [],
   "source": [
    "# Import flight data\n",
    "\n",
    "# df = pd.read_csv(r'C:\\Users\\Ram\\Downloads\\2017_original\\2017\\On_Time_On_Time_Performance_2017_1\\On_Time_On_Time_Performance_2017_1.csv')\n",
    "# columns = ['FlightDate',\"Quarter\",\"Origin\",\"Year\",\"Month\",\"DayofMonth\",\"DepTime\",\"DepDel15\",\"CRSDepTime\",\"DepDelayMinutes\",\"OriginAirportID\",\"DestAirportID\",\"ArrTime\",\"CRSArrTime\",\"ArrDel15\",\"ArrDelayMinutes\"]\n",
    "# df = pd.DataFrame(df, columns=columns)\n",
    "# df =df[df[\"DepTime\"].notna()]\n",
    "\n",
    "# df = df.iloc[:100]"
   ]
  },
  {
   "cell_type": "code",
   "execution_count": 14,
   "id": "6b4d5176",
   "metadata": {},
   "outputs": [],
   "source": [
    "ll = [\"ATL\",\"CLT\",\"DEN\",\"DFW\",\"EWR\",\"IAH\",\"JFK\",\"LAS\",\"LAX\",\"MCO\",\"MIA\",\"ORD\",\"PHX\",\"SEA\"]\n",
    "all_weather_data = {}\n",
    "for i in ll:\n",
    "    city_weather = []\n",
    "    o = len(city_weather) \n",
    "    \n",
    "    #print('\\nNamed with wildcard *:')\n",
    "    for name in glob.glob(f\"C:\\\\Users\\\\Ram\\\\Downloads\\\\{i}\\\\*\"):\n",
    "        city_weather += [name]\n",
    "\n",
    "    new_json = []\n",
    "    for filename in city_weather:\n",
    "        with open(filename) as fin1:\n",
    "            data1 = json.load(fin1)\n",
    "            data1 = data1['data']['weather']\n",
    "\n",
    "            new_json += [data1]\n",
    "\n",
    "\n",
    "\n",
    "    all_weather_data[i] = new_json\n"
   ]
  },
  {
   "cell_type": "code",
   "execution_count": 15,
   "id": "3a553c01",
   "metadata": {},
   "outputs": [],
   "source": [
    "flight_weather_data = []\n",
    "\n",
    "for index, row in df1.iterrows():\n",
    "    dep_date = row['FlightDate']\n",
    "    dep_time = row['DepTime']\n",
    "    \n",
    "    origin_index = row['Origin']\n",
    "    dep_month_index = (row['Year'] - 2016) * 12 + row['Month'] - 1\n",
    "    dep_day_index = int(dep_date[9:])\n",
    "    dep_time_index = int(dep_time // 100)\n",
    "    \n",
    "    flight_weather = all_weather_data[origin_index][dep_month_index][dep_day_index]['hourly'][dep_time_index]\n",
    "    flight_weather_data.append(flight_weather)"
   ]
  },
  {
   "cell_type": "code",
   "execution_count": 18,
   "id": "eb694836",
   "metadata": {},
   "outputs": [
    {
     "name": "stdout",
     "output_type": "stream",
     "text": [
      "0      0.0\n",
      "1      0.0\n",
      "2      0.0\n",
      "3      0.0\n",
      "4      1.0\n",
      "      ... \n",
      "137    0.0\n",
      "138    0.0\n",
      "139    0.0\n",
      "140    1.0\n",
      "141    0.0\n",
      "Name: ArrDel15, Length: 100, dtype: float64 0        0.0\n",
      "1        0.0\n",
      "2        7.0\n",
      "3        0.0\n",
      "4      113.0\n",
      "       ...  \n",
      "137      0.0\n",
      "138      3.0\n",
      "139      7.0\n",
      "140     36.0\n",
      "141      0.0\n",
      "Name: ArrDelayMinutes, Length: 100, dtype: float64\n"
     ]
    }
   ],
   "source": [
    "windspeedKmphList = [data['windspeedKmph'] for data in flight_weather_data]\n",
    "WindDirDegreeList = [data['winddirDegree'] for data in flight_weather_data]\n",
    "weathercodeList = [data['weatherCode'] for data in flight_weather_data]\n",
    "precipMMList = [data['precipMM'] for data in flight_weather_data]\n",
    "visibilityList = [data['visibility'] for data in flight_weather_data]\n",
    "pressureList = [data['pressure'] for data in flight_weather_data]\n",
    "cloudcoverList = [data['cloudcover'] for data in flight_weather_data]\n",
    "DewPointFList = [data['DewPointF'] for data in flight_weather_data]\n",
    "WindGustKmphList = [data['WindGustKmph'] for data in flight_weather_data]\n",
    "tempFList = [data['tempF'] for data in flight_weather_data]\n",
    "WindChillFList = [data['WindChillF'] for data in flight_weather_data]\n",
    "HumidityList = [data['humidity'] for data in flight_weather_data]\n",
    "timelist = [data['time'] for data in flight_weather_data]\n",
    "\n",
    "\n",
    "df1['windspeedKmph'] = windspeedKmphList\n",
    "df1['winddirDegree'] = WindDirDegreeList\n",
    "df1['weatherCode'] = weathercodeList \n",
    "df1['precipMM'] = precipMMList\n",
    "df1['visibility'] = visibilityList \n",
    "df1['pressure'] = pressureList\n",
    "df1['DewPointF'] = DewPointFList\n",
    "df1['cloudcover'] = cloudcoverList\n",
    "df1['WindGustKmph'] = WindGustKmphList\n",
    "df1['tempF'] = tempFList\n",
    "df1['WindChillF'] = WindChillFList\n",
    "df1['humidity'] = HumidityList\n",
    "df1['tempF'] = tempFList\n",
    "df1['time'] = timelist\n",
    "print(df1['ArrDel15' ],df1['ArrDelayMinutes'])\n"
   ]
  },
  {
   "cell_type": "code",
   "execution_count": 23,
   "id": "0532ae9b",
   "metadata": {},
   "outputs": [
    {
     "name": "stdout",
     "output_type": "stream",
     "text": [
      "Training Accuracy: 1.0\n",
      "Testing Accuracy: 0.95\n"
     ]
    },
    {
     "name": "stderr",
     "output_type": "stream",
     "text": [
      "C:\\Users\\Ram\\AppData\\Local\\Programs\\Python\\Python311\\Lib\\site-packages\\sklearn\\linear_model\\_logistic.py:458: ConvergenceWarning: lbfgs failed to converge (status=1):\n",
      "STOP: TOTAL NO. of ITERATIONS REACHED LIMIT.\n",
      "\n",
      "Increase the number of iterations (max_iter) or scale the data as shown in:\n",
      "    https://scikit-learn.org/stable/modules/preprocessing.html\n",
      "Please also refer to the documentation for alternative solver options:\n",
      "    https://scikit-learn.org/stable/modules/linear_model.html#logistic-regression\n",
      "  n_iter_i = _check_optimize_result(\n"
     ]
    }
   ],
   "source": [
    "from sklearn.model_selection import train_test_split\n",
    "from sklearn.linear_model import LogisticRegression\n",
    "from sklearn.metrics import accuracy_score\n",
    "\n",
    "# Assume 'X' is your feature matrix and 'y' is your target variable\n",
    "X = df1[[\"Year\", \"Month\", \"DayofMonth\", \"DepTime\", \"DepDel15\", \"CRSDepTime\", \"DepDelayMinutes\", \"OriginAirportID\", \"DestAirportID\", \"ArrTime\", \"CRSArrTime\", \"ArrDelayMinutes\", \"windspeedKmph\", \"winddirDegree\", \"weatherCode\", \"precipMM\", \"visibility\", \"pressure\", \"DewPointF\", \"cloudcover\", \"WindGustKmph\", \"tempF\", \"WindChillF\", \"humidity\", \"time\"]]\n",
    "y = df1 [\"ArrDel15\"]\n",
    "# Split the dataset into training and testing sets\n",
    "X_train, X_test, y_train, y_test = train_test_split(X, y, test_size=0.2, random_state=42)\n",
    "\n",
    "# # Verify the shapes of the resulting datasets\n",
    "# print(\"X_train shape:\", X_train.shape)\n",
    "# print(\"X_test shape:\", X_test.shape)\n",
    "# print(\"y_train shape:\", y_train.shape)\n",
    "# print(\"y_test shape:\", y_test.shape)\n",
    "\n",
    "model = LogisticRegression()\n",
    "\n",
    "# Train the model using the training data\n",
    "model.fit(X_train, y_train)\n",
    "\n",
    "# Predict on the training set\n",
    "y_train_pred = model.predict(X_train)\n",
    "\n",
    "# Predict on the testing set\n",
    "y_test_pred = model.predict(X_test)\n",
    "\n",
    "# Evaluate the model's performance\n",
    "train_accuracy = accuracy_score(y_train, y_train_pred)\n",
    "test_accuracy = accuracy_score(y_test, y_test_pred)\n",
    "\n",
    "print(\"Training Accuracy:\", train_accuracy)\n",
    "print(\"Testing Accuracy:\", test_accuracy)\n"
   ]
  },
  {
   "cell_type": "code",
   "execution_count": 28,
   "id": "ab371d20",
   "metadata": {},
   "outputs": [
    {
     "name": "stdout",
     "output_type": "stream",
     "text": [
      "MSE: 92.36718000000002\n",
      "RMSE: 9.610784567349329\n",
      "MAE: 5.634\n"
     ]
    }
   ],
   "source": [
    "# from sklearn.ensemble import ExtraTreesRegressor\n",
    "# import numpy as np\n",
    "\n",
    "# # Assume 'X_train', 'X_test', 'y_train', 'y_test' are your training and testing sets\n",
    "\n",
    "# # Create a linear regression model\n",
    "# model = LinearRegression()\n",
    "\n",
    "# # Assume 'X' is your feature matrix and 'y' is your target variable\n",
    "# X = df1[[\"Year\", \"Month\", \"DayofMonth\", \"DepTime\", \"DepDel15\", \"CRSDepTime\", \"DepDelayMinutes\", \"OriginAirportID\", \"DestAirportID\", \"ArrTime\", \"CRSArrTime\",\"ArrDel15\", \"windspeedKmph\", \"winddirDegree\", \"weatherCode\", \"precipMM\", \"visibility\", \"pressure\", \"DewPointF\", \"cloudcover\", \"WindGustKmph\", \"tempF\", \"WindChillF\", \"humidity\", \"time\"]]\n",
    "# y = df1 [ \"ArrDelayMinutes\"]\n",
    "# # Split the dataset into training and testing sets\n",
    "# X_train, X_test, y_train, y_test = train_test_split(X, y, test_size=0.2, random_state=42)\n",
    "\n",
    "\n",
    "# reg = ExtraTreesRegressor(n_estimators=100, random_state=0).fit(X_train, y_train)\n",
    "# reg.score(X_test, y_test)\n",
    "\n",
    "# from sklearn.metrics import mean_squared_error, mean_absolute_error\n",
    "\n",
    "# # Assuming 'reg' is your trained regression model\n",
    "\n",
    "# # Predict on the testing set\n",
    "# y_pred = reg.predict(X_test)\n",
    "\n",
    "# # Calculate MSE, RMSE, and MAE\n",
    "# mse = mean_squared_error(y_test, y_pred)\n",
    "# rmse = np.sqrt(mse)\n",
    "# mae = mean_absolute_error(y_test, y_pred)\n",
    "\n",
    "# print(\"MSE:\", mse)\n",
    "# print(\"RMSE:\", rmse)\n",
    "# print(\"MAE:\", mae)"
   ]
  },
  {
   "cell_type": "code",
   "execution_count": null,
   "id": "355b3ed3",
   "metadata": {},
   "outputs": [],
   "source": []
  }
 ],
 "metadata": {
  "kernelspec": {
   "display_name": "Python 3 (ipykernel)",
   "language": "python",
   "name": "python3"
  },
  "language_info": {
   "codemirror_mode": {
    "name": "ipython",
    "version": 3
   },
   "file_extension": ".py",
   "mimetype": "text/x-python",
   "name": "python",
   "nbconvert_exporter": "python",
   "pygments_lexer": "ipython3",
   "version": "3.11.1"
  }
 },
 "nbformat": 4,
 "nbformat_minor": 5
}
