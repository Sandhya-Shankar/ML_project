{
 "cells": [
  {
   "cell_type": "markdown",
   "id": "99c5f32f",
   "metadata": {},
   "source": [
    "# ML Project"
   ]
  },
  {
   "cell_type": "markdown",
   "id": "fb057051",
   "metadata": {},
   "source": [
    "## Import libraries, get data"
   ]
  },
  {
   "cell_type": "code",
   "execution_count": 1,
   "id": "180b3812",
   "metadata": {},
   "outputs": [],
   "source": [
    "# Libraries\n",
    "\n",
    "import pandas as pd\n",
    "import csv\n",
    "import json\n",
    "import glob"
   ]
  },
  {
   "cell_type": "code",
   "execution_count": 2,
   "id": "70dc4c7b",
   "metadata": {},
   "outputs": [],
   "source": [
    "m = []\n",
    "l = []\n",
    "for i in range (1,13):\n",
    "    m += [fr\"C:\\Users\\Ram\\Downloads\\2016_original\\2016\\On_Time_On_Time_Performance_2016_{i}\\On_Time_On_Time_Performance_2016_{i}.csv\"]\n",
    "    l += [fr\"C:\\Users\\Ram\\Downloads\\2017_original\\2017\\On_Time_On_Time_Performance_2017_{i}\\On_Time_On_Time_Performance_2017_{i}.csv\"]\n",
    "l = m+l\n",
    "a = [\"ATL\",\"CLT\",\"DEN\",\"DFW\",\"EWR\",\"IAH\",\"JFK\",\"LAS\",\"LAX\",\"MCO\",\"MIA\",\"ORD\",\"PHX\",\"SEA\"]"
   ]
  },
  {
   "cell_type": "code",
   "execution_count": 29,
   "id": "901fb3cd",
   "metadata": {},
   "outputs": [
    {
     "name": "stderr",
     "output_type": "stream",
     "text": [
      "C:\\Users\\Ram\\AppData\\Local\\Temp\\ipykernel_8792\\3932062354.py:4: DtypeWarning: Columns (77) have mixed types. Specify dtype option on import or set low_memory=False.\n",
      "  df1 = pd.read_csv(l[0])\n",
      "C:\\Users\\Ram\\AppData\\Local\\Temp\\ipykernel_8792\\3932062354.py:10: DtypeWarning: Columns (77,84) have mixed types. Specify dtype option on import or set low_memory=False.\n",
      "  df2 = pd.read_csv(l[i])\n",
      "C:\\Users\\Ram\\AppData\\Local\\Temp\\ipykernel_8792\\3932062354.py:10: DtypeWarning: Columns (48,77,84) have mixed types. Specify dtype option on import or set low_memory=False.\n",
      "  df2 = pd.read_csv(l[i])\n",
      "C:\\Users\\Ram\\AppData\\Local\\Temp\\ipykernel_8792\\3932062354.py:10: DtypeWarning: Columns (48,77,84) have mixed types. Specify dtype option on import or set low_memory=False.\n",
      "  df2 = pd.read_csv(l[i])\n",
      "C:\\Users\\Ram\\AppData\\Local\\Temp\\ipykernel_8792\\3932062354.py:10: DtypeWarning: Columns (48,77,84,85) have mixed types. Specify dtype option on import or set low_memory=False.\n",
      "  df2 = pd.read_csv(l[i])\n",
      "C:\\Users\\Ram\\AppData\\Local\\Temp\\ipykernel_8792\\3932062354.py:10: DtypeWarning: Columns (48,77,84) have mixed types. Specify dtype option on import or set low_memory=False.\n",
      "  df2 = pd.read_csv(l[i])\n",
      "C:\\Users\\Ram\\AppData\\Local\\Temp\\ipykernel_8792\\3932062354.py:10: DtypeWarning: Columns (48,77,84) have mixed types. Specify dtype option on import or set low_memory=False.\n",
      "  df2 = pd.read_csv(l[i])\n",
      "C:\\Users\\Ram\\AppData\\Local\\Temp\\ipykernel_8792\\3932062354.py:10: DtypeWarning: Columns (48,77,84) have mixed types. Specify dtype option on import or set low_memory=False.\n",
      "  df2 = pd.read_csv(l[i])\n",
      "C:\\Users\\Ram\\AppData\\Local\\Temp\\ipykernel_8792\\3932062354.py:10: DtypeWarning: Columns (48,77,84) have mixed types. Specify dtype option on import or set low_memory=False.\n",
      "  df2 = pd.read_csv(l[i])\n",
      "C:\\Users\\Ram\\AppData\\Local\\Temp\\ipykernel_8792\\3932062354.py:10: DtypeWarning: Columns (48,77,84) have mixed types. Specify dtype option on import or set low_memory=False.\n",
      "  df2 = pd.read_csv(l[i])\n",
      "C:\\Users\\Ram\\AppData\\Local\\Temp\\ipykernel_8792\\3932062354.py:10: DtypeWarning: Columns (48,69,76,77,84) have mixed types. Specify dtype option on import or set low_memory=False.\n",
      "  df2 = pd.read_csv(l[i])\n",
      "C:\\Users\\Ram\\AppData\\Local\\Temp\\ipykernel_8792\\3932062354.py:10: DtypeWarning: Columns (48,77,84) have mixed types. Specify dtype option on import or set low_memory=False.\n",
      "  df2 = pd.read_csv(l[i])\n",
      "C:\\Users\\Ram\\AppData\\Local\\Temp\\ipykernel_8792\\3932062354.py:10: DtypeWarning: Columns (48,77,84) have mixed types. Specify dtype option on import or set low_memory=False.\n",
      "  df2 = pd.read_csv(l[i])\n",
      "C:\\Users\\Ram\\AppData\\Local\\Temp\\ipykernel_8792\\3932062354.py:10: DtypeWarning: Columns (48,77,84) have mixed types. Specify dtype option on import or set low_memory=False.\n",
      "  df2 = pd.read_csv(l[i])\n",
      "C:\\Users\\Ram\\AppData\\Local\\Temp\\ipykernel_8792\\3932062354.py:10: DtypeWarning: Columns (48,77,84) have mixed types. Specify dtype option on import or set low_memory=False.\n",
      "  df2 = pd.read_csv(l[i])\n",
      "C:\\Users\\Ram\\AppData\\Local\\Temp\\ipykernel_8792\\3932062354.py:10: DtypeWarning: Columns (48,77,84) have mixed types. Specify dtype option on import or set low_memory=False.\n",
      "  df2 = pd.read_csv(l[i])\n",
      "C:\\Users\\Ram\\AppData\\Local\\Temp\\ipykernel_8792\\3932062354.py:10: DtypeWarning: Columns (48,77) have mixed types. Specify dtype option on import or set low_memory=False.\n",
      "  df2 = pd.read_csv(l[i])\n",
      "C:\\Users\\Ram\\AppData\\Local\\Temp\\ipykernel_8792\\3932062354.py:10: DtypeWarning: Columns (48,77,84) have mixed types. Specify dtype option on import or set low_memory=False.\n",
      "  df2 = pd.read_csv(l[i])\n",
      "C:\\Users\\Ram\\AppData\\Local\\Temp\\ipykernel_8792\\3932062354.py:10: DtypeWarning: Columns (48,77,84) have mixed types. Specify dtype option on import or set low_memory=False.\n",
      "  df2 = pd.read_csv(l[i])\n",
      "C:\\Users\\Ram\\AppData\\Local\\Temp\\ipykernel_8792\\3932062354.py:10: DtypeWarning: Columns (48,77,84) have mixed types. Specify dtype option on import or set low_memory=False.\n",
      "  df2 = pd.read_csv(l[i])\n",
      "C:\\Users\\Ram\\AppData\\Local\\Temp\\ipykernel_8792\\3932062354.py:10: DtypeWarning: Columns (77,84) have mixed types. Specify dtype option on import or set low_memory=False.\n",
      "  df2 = pd.read_csv(l[i])\n",
      "C:\\Users\\Ram\\AppData\\Local\\Temp\\ipykernel_8792\\3932062354.py:10: DtypeWarning: Columns (48,77,84) have mixed types. Specify dtype option on import or set low_memory=False.\n",
      "  df2 = pd.read_csv(l[i])\n",
      "C:\\Users\\Ram\\AppData\\Local\\Temp\\ipykernel_8792\\3932062354.py:10: DtypeWarning: Columns (48,77,84) have mixed types. Specify dtype option on import or set low_memory=False.\n",
      "  df2 = pd.read_csv(l[i])\n",
      "C:\\Users\\Ram\\AppData\\Local\\Temp\\ipykernel_8792\\3932062354.py:10: DtypeWarning: Columns (48,77,84) have mixed types. Specify dtype option on import or set low_memory=False.\n",
      "  df2 = pd.read_csv(l[i])\n"
     ]
    },
    {
     "data": {
      "text/plain": [
       "(1522020, 16)"
      ]
     },
     "execution_count": 29,
     "metadata": {},
     "output_type": "execute_result"
    }
   ],
   "source": [
    "columns = ['FlightDate',\"Quarter\",\"Origin\",\"Year\",\"Month\",\"DayofMonth\",\"DepTime\",\"DepDel15\",\"CRSDepTime\",\"DepDelayMinutes\",\"OriginAirportID\",\"DestAirportID\",\"ArrTime\",\"CRSArrTime\",\"ArrDel15\",\"ArrDelayMinutes\"]\n",
    "\n",
    "\n",
    "df1 = pd.read_csv(l[0])\n",
    "df1 = df1[df1[\"Origin\"].isin(a)]\n",
    "df1 = df1[df1[\"Dest\"].isin(a)]\n",
    "df1 = df1[df1[\"DepTime\"].notna()]   \n",
    "df1 = pd.DataFrame(df1, columns=columns)\n",
    "for i in range(1,len(l)):\n",
    "    df2 = pd.read_csv(l[i])\n",
    "    df2 = df2[df2[\"Dest\"].isin(a)]\n",
    "    df2 = df2[df2[\"Origin\"].isin(a)]\n",
    "    df2 = df2[df2[\"DepTime\"].notna()]   \n",
    "    df2 = pd.DataFrame(df2, columns=columns)\n",
    "    concat_data = pd.concat([df1, df2], ignore_index=True)\n",
    "    df1 = concat_data\n",
    "\n",
    "\n",
    "\n",
    "# df1 = df1.iloc[:100]\n",
    "df1.shape"
   ]
  },
  {
   "cell_type": "code",
   "execution_count": 25,
   "id": "7bfb8c9b",
   "metadata": {},
   "outputs": [],
   "source": [
    "\n",
    "df1.to_csv('file1.csv')\n",
    "# Import flight data\n",
    "\n",
    "# df = pd.read_csv(r'C:\\Users\\Ram\\Downloads\\2017_original\\2017\\On_Time_On_Time_Performance_2017_1\\On_Time_On_Time_Performance_2017_1.csv')\n",
    "# columns = ['FlightDate',\"Quarter\",\"Origin\",\"Year\",\"Month\",\"DayofMonth\",\"DepTime\",\"DepDel15\",\"CRSDepTime\",\"DepDelayMinutes\",\"OriginAirportID\",\"DestAirportID\",\"ArrTime\",\"CRSArrTime\",\"ArrDel15\",\"ArrDelayMinutes\"]\n",
    "# df = pd.DataFrame(df, columns=columns)\n",
    "# df =df[df[\"DepTime\"].notna()]\n",
    "\n",
    "# df = df.iloc[:100]"
   ]
  },
  {
   "cell_type": "code",
   "execution_count": 26,
   "id": "6b4d5176",
   "metadata": {},
   "outputs": [],
   "source": [
    "ll = [\"ATL\",\"CLT\",\"DEN\",\"DFW\",\"EWR\",\"IAH\",\"JFK\",\"LAS\",\"LAX\",\"MCO\",\"MIA\",\"ORD\",\"PHX\",\"SEA\"]\n",
    "# ll = [\"JFK\"]\n",
    "all_weather_data = {}\n",
    "for i in ll:\n",
    "    city_weather = []\n",
    "    \n",
    "    for j in range(1,13):\n",
    "        city_weather += [f\"C:\\\\Users\\\\Ram\\\\Downloads\\\\{i}\\\\2016-{j}.json\"]\n",
    "        \n",
    "    for j in range(1,13):\n",
    "        city_weather += [f\"C:\\\\Users\\\\Ram\\\\Downloads\\\\{i}\\\\2017-{j}.json\"]\n",
    "    \n",
    "    \n",
    "    new_json = []\n",
    "    for filename in city_weather:\n",
    "        with open(filename) as fin1:\n",
    "            data1 = json.load(fin1)\n",
    "            data1 = data1['data']['weather']\n",
    "\n",
    "            new_json += [data1]\n",
    "\n",
    "    all_weather_data[i] = new_json\n",
    "\n",
    "with open('all_weather_data.json', 'w+') as f:\n",
    "    json.dump(all_weather_data, f, indent=4)"
   ]
  },
  {
   "cell_type": "code",
   "execution_count": 27,
   "id": "1ca7467d",
   "metadata": {},
   "outputs": [],
   "source": [
    "df1 = pd.read_csv('file1.csv',header=0)\n",
    "with open('all_weather_data.json') as f:\n",
    "    all_weather_data = json.load(f)"
   ]
  },
  {
   "cell_type": "code",
   "execution_count": null,
   "id": "5e55587a",
   "metadata": {},
   "outputs": [],
   "source": [
    "print(all_weather_data['JFK'][1][29]['hourly'][0])"
   ]
  },
  {
   "cell_type": "code",
   "execution_count": 30,
   "id": "82d9352f",
   "metadata": {
    "scrolled": true
   },
   "outputs": [],
   "source": [
    "month = {1:31,2:28,3:31,4:30,5:31,6:30,7:31,8:31,9:30,10:31,11:30,12:31}\n",
    "feb_month = {2016: 29, 2017: 28}\n",
    "flight_weather_data = []\n",
    "\n",
    "for index, row in df1.iterrows():\n",
    "    if df1.at[index,\"DepTime\"] // 100 == 24 :\n",
    "        df1.at[index,\"DayofMonth\"] = df1.at[index,\"DayofMonth\"] + 1\n",
    "        df1.at[index,\"DepTime\"] = df1.at[index,\"DepTime\"] - 2400\n",
    "        if df1.at[index,\"Month\"] == 2:\n",
    "            month[2] = feb_month[df1.at[index,\"Year\"]]\n",
    "        if df1.at[index,\"DayofMonth\"] > month[df1.at[index,\"Month\"]]:\n",
    "            df1.at[index,\"DayofMonth\"] = 1\n",
    "            df1.at[index,\"Month\"] += 1\n",
    "            if df1.at[index,\"Month\"] > 12:\n",
    "                df1.at[index,\"Year\"] += 1\n",
    "                df1.at[index,\"Month\"] = 1\n",
    "    \n",
    "    origin_index = df1.at[index,\"Origin\"]\n",
    "    dep_month_index = (df1.at[index,\"Year\"] - 2016) * 12 + df1.at[index,\"Month\"] - 1\n",
    "    dep_day_index = int(df1.at[index,\"DayofMonth\"]) - 1\n",
    "    dep_time_index = int(df1.at[index,\"DepTime\"] // 100)\n",
    "    \n",
    "    try:\n",
    "        flight_weather = all_weather_data[origin_index][dep_month_index][dep_day_index]['hourly'][dep_time_index]\n",
    "        flight_weather_data.append(flight_weather)        \n",
    "    except:\n",
    "        print('origin_index', origin_index, 'dep_month_index', dep_month_index, '\\tdep_day_index', dep_day_index, '\\tdep_time_index', dep_time_index)\n",
    "        exit()"
   ]
  },
  {
   "cell_type": "code",
   "execution_count": null,
   "id": "eb694836",
   "metadata": {},
   "outputs": [],
   "source": [
    "windspeedKmphList = [data['windspeedKmph'] for data in flight_weather_data]\n",
    "WindDirDegreeList = [data['winddirDegree'] for data in flight_weather_data]\n",
    "weathercodeList = [data['weatherCode'] for data in flight_weather_data]\n",
    "precipMMList = [data['precipMM'] for data in flight_weather_data]\n",
    "visibilityList = [data['visibility'] for data in flight_weather_data]\n",
    "pressureList = [data['pressure'] for data in flight_weather_data]\n",
    "cloudcoverList = [data['cloudcover'] for data in flight_weather_data]\n",
    "DewPointFList = [data['DewPointF'] for data in flight_weather_data]\n",
    "WindGustKmphList = [data['WindGustKmph'] for data in flight_weather_data]\n",
    "tempFList = [data['tempF'] for data in flight_weather_data]\n",
    "WindChillFList = [data['WindChillF'] for data in flight_weather_data]\n",
    "HumidityList = [data['humidity'] for data in flight_weather_data]\n",
    "timelist = [data['time'] for data in flight_weather_data]\n",
    "\n",
    "\n",
    "df1['windspeedKmph'] = windspeedKmphList\n",
    "df1['winddirDegree'] = WindDirDegreeList\n",
    "df1['weatherCode'] = weathercodeList \n",
    "df1['precipMM'] = precipMMList\n",
    "df1['visibility'] = visibilityList \n",
    "df1['pressure'] = pressureList\n",
    "df1['DewPointF'] = DewPointFList\n",
    "df1['cloudcover'] = cloudcoverList\n",
    "df1['WindGustKmph'] = WindGustKmphList\n",
    "df1['tempF'] = tempFList\n",
    "df1['WindChillF'] = WindChillFList\n",
    "df1['humidity'] = HumidityList\n",
    "df1['tempF'] = tempFList\n",
    "df1['time'] = timelist\n",
    "print(df1)\n"
   ]
  },
  {
   "cell_type": "code",
   "execution_count": null,
   "id": "746ac68c",
   "metadata": {},
   "outputs": [],
   "source": [
    "df1.to_csv('file2.csv')"
   ]
  },
  {
   "cell_type": "code",
   "execution_count": 13,
   "id": "82a50675",
   "metadata": {},
   "outputs": [],
   "source": [
    "from sklearn.model_selection import train_test_split\n",
    "from sklearn.linear_model import LogisticRegression\n",
    "from sklearn.metrics import accuracy_score"
   ]
  },
  {
   "cell_type": "code",
   "execution_count": 15,
   "id": "39a17bf3",
   "metadata": {},
   "outputs": [],
   "source": [
    "# Assume 'X' is your feature matrix and 'y' is your target variable\n",
    "df2 = df1.dropna()\n",
    "X = df2[[\"Year\", \"Month\", \"DayofMonth\", \"DepTime\", \"DepDel15\", \"CRSDepTime\", \"DepDelayMinutes\", \"OriginAirportID\", \"DestAirportID\", \"ArrTime\", \"CRSArrTime\", \"ArrDelayMinutes\", \"windspeedKmph\", \"winddirDegree\", \"weatherCode\", \"precipMM\", \"visibility\", \"pressure\", \"DewPointF\", \"cloudcover\", \"WindGustKmph\", \"tempF\", \"WindChillF\", \"humidity\", \"time\"]]\n",
    "y = df2 [\"ArrDel15\"]\n",
    "# Split the dataset into training and testing sets\n",
    "X_train, X_test, y_train, y_test = train_test_split(X, y, test_size=0.2, random_state=42)\n"
   ]
  },
  {
   "cell_type": "code",
   "execution_count": 16,
   "id": "0532ae9b",
   "metadata": {},
   "outputs": [
    {
     "name": "stderr",
     "output_type": "stream",
     "text": [
      "C:\\Users\\Ram\\AppData\\Local\\Programs\\Python\\Python311\\Lib\\site-packages\\sklearn\\linear_model\\_logistic.py:458: ConvergenceWarning: lbfgs failed to converge (status=1):\n",
      "STOP: TOTAL NO. of ITERATIONS REACHED LIMIT.\n",
      "\n",
      "Increase the number of iterations (max_iter) or scale the data as shown in:\n",
      "    https://scikit-learn.org/stable/modules/preprocessing.html\n",
      "Please also refer to the documentation for alternative solver options:\n",
      "    https://scikit-learn.org/stable/modules/linear_model.html#logistic-regression\n",
      "  n_iter_i = _check_optimize_result(\n"
     ]
    },
    {
     "name": "stdout",
     "output_type": "stream",
     "text": [
      "Training Accuracy: 0.958599966567054\n",
      "Testing Accuracy: 0.9585761200027668\n"
     ]
    }
   ],
   "source": [
    "# # Verify the shapes of the resulting datasets\n",
    "# print(\"X_train shape:\", X_train.shape)\n",
    "# print(\"X_test shape:\", X_test.shape)\n",
    "# print(\"y_train shape:\", y_train.shape)\n",
    "# print(\"y_test shape:\", y_test.shape)\n",
    "\n",
    "model = LogisticRegression()\n",
    "\n",
    "# Train the model using the training data\n",
    "model.fit(X_train, y_train)\n",
    "\n",
    "# Predict on the training set\n",
    "y_train_pred = model.predict(X_train)\n",
    "\n",
    "# Predict on the testing set\n",
    "y_test_pred = model.predict(X_test)\n",
    "\n",
    "# Evaluate the model's performance\n",
    "train_accuracy = accuracy_score(y_train, y_train_pred)\n",
    "test_accuracy = accuracy_score(y_test, y_test_pred)\n",
    "\n",
    "print(\"Training Accuracy:\", train_accuracy)\n",
    "print(\"Testing Accuracy:\", test_accuracy)\n"
   ]
  },
  {
   "cell_type": "code",
   "execution_count": 18,
   "id": "15871fd7",
   "metadata": {},
   "outputs": [],
   "source": [
    "import numpy as np\n",
    "import xgboost as xgb\n",
    "from sklearn.model_selection import train_test_split\n",
    "from sklearn.metrics import mean_squared_error\n",
    "# Assume 'X_train', 'X_test', 'y_train', 'y_test' are your training and testing sets"
   ]
  },
  {
   "cell_type": "code",
   "execution_count": 21,
   "id": "7eb835fe",
   "metadata": {},
   "outputs": [
    {
     "name": "stdout",
     "output_type": "stream",
     "text": [
      "Unnamed: 0 <class 'str'>\n",
      "FlightDate <class 'str'>\n",
      "Quarter <class 'str'>\n",
      "Origin <class 'str'>\n",
      "Year <class 'str'>\n",
      "Month <class 'str'>\n",
      "DayofMonth <class 'str'>\n",
      "DepTime <class 'str'>\n",
      "DepDel15 <class 'str'>\n",
      "CRSDepTime <class 'str'>\n",
      "DepDelayMinutes <class 'str'>\n",
      "OriginAirportID <class 'str'>\n",
      "DestAirportID <class 'str'>\n",
      "ArrTime <class 'str'>\n",
      "CRSArrTime <class 'str'>\n",
      "ArrDel15 <class 'str'>\n",
      "ArrDelayMinutes <class 'str'>\n",
      "windspeedKmph <class 'str'>\n",
      "winddirDegree <class 'str'>\n",
      "weatherCode <class 'str'>\n",
      "precipMM <class 'str'>\n",
      "visibility <class 'str'>\n",
      "pressure <class 'str'>\n",
      "DewPointF <class 'str'>\n",
      "cloudcover <class 'str'>\n",
      "WindGustKmph <class 'str'>\n",
      "tempF <class 'str'>\n",
      "WindChillF <class 'str'>\n",
      "humidity <class 'str'>\n",
      "time <class 'str'>\n"
     ]
    }
   ],
   "source": [
    "for i in df1.columns:\n",
    "    i"
   ]
  },
  {
   "cell_type": "code",
   "execution_count": 33,
   "id": "ab371d20",
   "metadata": {},
   "outputs": [
    {
     "ename": "KeyError",
     "evalue": "\"['windspeedKmph', 'winddirDegree', 'weatherCode', 'precipMM', 'visibility', 'pressure', 'DewPointF', 'cloudcover', 'WindGustKmph', 'tempF', 'WindChillF', 'humidity', 'time'] not in index\"",
     "output_type": "error",
     "traceback": [
      "\u001b[1;31m---------------------------------------------------------------------------\u001b[0m",
      "\u001b[1;31mKeyError\u001b[0m                                  Traceback (most recent call last)",
      "Cell \u001b[1;32mIn[33], line 8\u001b[0m\n\u001b[0;32m      5\u001b[0m column_list \u001b[38;5;241m=\u001b[39m[\u001b[38;5;124m\"\u001b[39m\u001b[38;5;124mYear\u001b[39m\u001b[38;5;124m\"\u001b[39m, \u001b[38;5;124m\"\u001b[39m\u001b[38;5;124mMonth\u001b[39m\u001b[38;5;124m\"\u001b[39m, \u001b[38;5;124m\"\u001b[39m\u001b[38;5;124mDayofMonth\u001b[39m\u001b[38;5;124m\"\u001b[39m, \u001b[38;5;124m\"\u001b[39m\u001b[38;5;124mDepTime\u001b[39m\u001b[38;5;124m\"\u001b[39m, \u001b[38;5;124m\"\u001b[39m\u001b[38;5;124mDepDel15\u001b[39m\u001b[38;5;124m\"\u001b[39m, \u001b[38;5;124m\"\u001b[39m\u001b[38;5;124mCRSDepTime\u001b[39m\u001b[38;5;124m\"\u001b[39m, \u001b[38;5;124m\"\u001b[39m\u001b[38;5;124mDepDelayMinutes\u001b[39m\u001b[38;5;124m\"\u001b[39m, \u001b[38;5;124m\"\u001b[39m\u001b[38;5;124mOriginAirportID\u001b[39m\u001b[38;5;124m\"\u001b[39m, \u001b[38;5;124m\"\u001b[39m\u001b[38;5;124mDestAirportID\u001b[39m\u001b[38;5;124m\"\u001b[39m, \u001b[38;5;124m\"\u001b[39m\u001b[38;5;124mArrTime\u001b[39m\u001b[38;5;124m\"\u001b[39m, \u001b[38;5;124m\"\u001b[39m\u001b[38;5;124mCRSArrTime\u001b[39m\u001b[38;5;124m\"\u001b[39m,\u001b[38;5;124m\"\u001b[39m\u001b[38;5;124mArrDel15\u001b[39m\u001b[38;5;124m\"\u001b[39m, \u001b[38;5;124m\"\u001b[39m\u001b[38;5;124mwindspeedKmph\u001b[39m\u001b[38;5;124m\"\u001b[39m, \u001b[38;5;124m\"\u001b[39m\u001b[38;5;124mwinddirDegree\u001b[39m\u001b[38;5;124m\"\u001b[39m, \u001b[38;5;124m\"\u001b[39m\u001b[38;5;124mweatherCode\u001b[39m\u001b[38;5;124m\"\u001b[39m, \u001b[38;5;124m\"\u001b[39m\u001b[38;5;124mprecipMM\u001b[39m\u001b[38;5;124m\"\u001b[39m, \u001b[38;5;124m\"\u001b[39m\u001b[38;5;124mvisibility\u001b[39m\u001b[38;5;124m\"\u001b[39m, \u001b[38;5;124m\"\u001b[39m\u001b[38;5;124mpressure\u001b[39m\u001b[38;5;124m\"\u001b[39m, \u001b[38;5;124m\"\u001b[39m\u001b[38;5;124mDewPointF\u001b[39m\u001b[38;5;124m\"\u001b[39m, \u001b[38;5;124m\"\u001b[39m\u001b[38;5;124mcloudcover\u001b[39m\u001b[38;5;124m\"\u001b[39m, \u001b[38;5;124m\"\u001b[39m\u001b[38;5;124mWindGustKmph\u001b[39m\u001b[38;5;124m\"\u001b[39m, \u001b[38;5;124m\"\u001b[39m\u001b[38;5;124mtempF\u001b[39m\u001b[38;5;124m\"\u001b[39m, \u001b[38;5;124m\"\u001b[39m\u001b[38;5;124mWindChillF\u001b[39m\u001b[38;5;124m\"\u001b[39m, \u001b[38;5;124m\"\u001b[39m\u001b[38;5;124mhumidity\u001b[39m\u001b[38;5;124m\"\u001b[39m, \u001b[38;5;124m\"\u001b[39m\u001b[38;5;124mtime\u001b[39m\u001b[38;5;124m\"\u001b[39m, \u001b[38;5;124m\"\u001b[39m\u001b[38;5;124mArrDelayMinutes\u001b[39m\u001b[38;5;124m\"\u001b[39m]\n\u001b[0;32m      6\u001b[0m \u001b[38;5;66;03m#df1[column_list] = df1[column_list].astype(float)\u001b[39;00m\n\u001b[1;32m----> 8\u001b[0m X \u001b[38;5;241m=\u001b[39m \u001b[43mdf1\u001b[49m\u001b[43m[\u001b[49m\u001b[43m[\u001b[49m\u001b[38;5;124;43m\"\u001b[39;49m\u001b[38;5;124;43mYear\u001b[39;49m\u001b[38;5;124;43m\"\u001b[39;49m\u001b[43m,\u001b[49m\u001b[43m \u001b[49m\u001b[38;5;124;43m\"\u001b[39;49m\u001b[38;5;124;43mMonth\u001b[39;49m\u001b[38;5;124;43m\"\u001b[39;49m\u001b[43m,\u001b[49m\u001b[43m \u001b[49m\u001b[38;5;124;43m\"\u001b[39;49m\u001b[38;5;124;43mDayofMonth\u001b[39;49m\u001b[38;5;124;43m\"\u001b[39;49m\u001b[43m,\u001b[49m\u001b[43m \u001b[49m\u001b[38;5;124;43m\"\u001b[39;49m\u001b[38;5;124;43mDepTime\u001b[39;49m\u001b[38;5;124;43m\"\u001b[39;49m\u001b[43m,\u001b[49m\u001b[43m \u001b[49m\u001b[38;5;124;43m\"\u001b[39;49m\u001b[38;5;124;43mDepDel15\u001b[39;49m\u001b[38;5;124;43m\"\u001b[39;49m\u001b[43m,\u001b[49m\u001b[43m \u001b[49m\u001b[38;5;124;43m\"\u001b[39;49m\u001b[38;5;124;43mCRSDepTime\u001b[39;49m\u001b[38;5;124;43m\"\u001b[39;49m\u001b[43m,\u001b[49m\u001b[43m \u001b[49m\u001b[38;5;124;43m\"\u001b[39;49m\u001b[38;5;124;43mDepDelayMinutes\u001b[39;49m\u001b[38;5;124;43m\"\u001b[39;49m\u001b[43m,\u001b[49m\u001b[43m \u001b[49m\u001b[38;5;124;43m\"\u001b[39;49m\u001b[38;5;124;43mOriginAirportID\u001b[39;49m\u001b[38;5;124;43m\"\u001b[39;49m\u001b[43m,\u001b[49m\u001b[43m \u001b[49m\u001b[38;5;124;43m\"\u001b[39;49m\u001b[38;5;124;43mDestAirportID\u001b[39;49m\u001b[38;5;124;43m\"\u001b[39;49m\u001b[43m,\u001b[49m\u001b[43m \u001b[49m\u001b[38;5;124;43m\"\u001b[39;49m\u001b[38;5;124;43mArrTime\u001b[39;49m\u001b[38;5;124;43m\"\u001b[39;49m\u001b[43m,\u001b[49m\u001b[43m \u001b[49m\u001b[38;5;124;43m\"\u001b[39;49m\u001b[38;5;124;43mCRSArrTime\u001b[39;49m\u001b[38;5;124;43m\"\u001b[39;49m\u001b[43m,\u001b[49m\u001b[38;5;124;43m\"\u001b[39;49m\u001b[38;5;124;43mArrDel15\u001b[39;49m\u001b[38;5;124;43m\"\u001b[39;49m\u001b[43m,\u001b[49m\u001b[43m \u001b[49m\u001b[38;5;124;43m\"\u001b[39;49m\u001b[38;5;124;43mwindspeedKmph\u001b[39;49m\u001b[38;5;124;43m\"\u001b[39;49m\u001b[43m,\u001b[49m\u001b[43m \u001b[49m\u001b[38;5;124;43m\"\u001b[39;49m\u001b[38;5;124;43mwinddirDegree\u001b[39;49m\u001b[38;5;124;43m\"\u001b[39;49m\u001b[43m,\u001b[49m\u001b[43m \u001b[49m\u001b[38;5;124;43m\"\u001b[39;49m\u001b[38;5;124;43mweatherCode\u001b[39;49m\u001b[38;5;124;43m\"\u001b[39;49m\u001b[43m,\u001b[49m\u001b[43m \u001b[49m\u001b[38;5;124;43m\"\u001b[39;49m\u001b[38;5;124;43mprecipMM\u001b[39;49m\u001b[38;5;124;43m\"\u001b[39;49m\u001b[43m,\u001b[49m\u001b[43m \u001b[49m\u001b[38;5;124;43m\"\u001b[39;49m\u001b[38;5;124;43mvisibility\u001b[39;49m\u001b[38;5;124;43m\"\u001b[39;49m\u001b[43m,\u001b[49m\u001b[43m \u001b[49m\u001b[38;5;124;43m\"\u001b[39;49m\u001b[38;5;124;43mpressure\u001b[39;49m\u001b[38;5;124;43m\"\u001b[39;49m\u001b[43m,\u001b[49m\u001b[43m \u001b[49m\u001b[38;5;124;43m\"\u001b[39;49m\u001b[38;5;124;43mDewPointF\u001b[39;49m\u001b[38;5;124;43m\"\u001b[39;49m\u001b[43m,\u001b[49m\u001b[43m \u001b[49m\u001b[38;5;124;43m\"\u001b[39;49m\u001b[38;5;124;43mcloudcover\u001b[39;49m\u001b[38;5;124;43m\"\u001b[39;49m\u001b[43m,\u001b[49m\u001b[43m \u001b[49m\u001b[38;5;124;43m\"\u001b[39;49m\u001b[38;5;124;43mWindGustKmph\u001b[39;49m\u001b[38;5;124;43m\"\u001b[39;49m\u001b[43m,\u001b[49m\u001b[43m \u001b[49m\u001b[38;5;124;43m\"\u001b[39;49m\u001b[38;5;124;43mtempF\u001b[39;49m\u001b[38;5;124;43m\"\u001b[39;49m\u001b[43m,\u001b[49m\u001b[43m \u001b[49m\u001b[38;5;124;43m\"\u001b[39;49m\u001b[38;5;124;43mWindChillF\u001b[39;49m\u001b[38;5;124;43m\"\u001b[39;49m\u001b[43m,\u001b[49m\u001b[43m \u001b[49m\u001b[38;5;124;43m\"\u001b[39;49m\u001b[38;5;124;43mhumidity\u001b[39;49m\u001b[38;5;124;43m\"\u001b[39;49m\u001b[43m,\u001b[49m\u001b[43m \u001b[49m\u001b[38;5;124;43m\"\u001b[39;49m\u001b[38;5;124;43mtime\u001b[39;49m\u001b[38;5;124;43m\"\u001b[39;49m\u001b[43m]\u001b[49m\u001b[43m]\u001b[49m\n\u001b[0;32m      9\u001b[0m y \u001b[38;5;241m=\u001b[39m df1 [ \u001b[38;5;124m\"\u001b[39m\u001b[38;5;124mArrDelayMinutes\u001b[39m\u001b[38;5;124m\"\u001b[39m]\n\u001b[0;32m     10\u001b[0m \u001b[38;5;66;03m# Split the dataset into training and testing sets\u001b[39;00m\n",
      "File \u001b[1;32m~\\AppData\\Local\\Programs\\Python\\Python311\\Lib\\site-packages\\pandas\\core\\frame.py:3813\u001b[0m, in \u001b[0;36mDataFrame.__getitem__\u001b[1;34m(self, key)\u001b[0m\n\u001b[0;32m   3811\u001b[0m     \u001b[38;5;28;01mif\u001b[39;00m is_iterator(key):\n\u001b[0;32m   3812\u001b[0m         key \u001b[38;5;241m=\u001b[39m \u001b[38;5;28mlist\u001b[39m(key)\n\u001b[1;32m-> 3813\u001b[0m     indexer \u001b[38;5;241m=\u001b[39m \u001b[38;5;28;43mself\u001b[39;49m\u001b[38;5;241;43m.\u001b[39;49m\u001b[43mcolumns\u001b[49m\u001b[38;5;241;43m.\u001b[39;49m\u001b[43m_get_indexer_strict\u001b[49m\u001b[43m(\u001b[49m\u001b[43mkey\u001b[49m\u001b[43m,\u001b[49m\u001b[43m \u001b[49m\u001b[38;5;124;43m\"\u001b[39;49m\u001b[38;5;124;43mcolumns\u001b[39;49m\u001b[38;5;124;43m\"\u001b[39;49m\u001b[43m)\u001b[49m[\u001b[38;5;241m1\u001b[39m]\n\u001b[0;32m   3815\u001b[0m \u001b[38;5;66;03m# take() does not accept boolean indexers\u001b[39;00m\n\u001b[0;32m   3816\u001b[0m \u001b[38;5;28;01mif\u001b[39;00m \u001b[38;5;28mgetattr\u001b[39m(indexer, \u001b[38;5;124m\"\u001b[39m\u001b[38;5;124mdtype\u001b[39m\u001b[38;5;124m\"\u001b[39m, \u001b[38;5;28;01mNone\u001b[39;00m) \u001b[38;5;241m==\u001b[39m \u001b[38;5;28mbool\u001b[39m:\n",
      "File \u001b[1;32m~\\AppData\\Local\\Programs\\Python\\Python311\\Lib\\site-packages\\pandas\\core\\indexes\\base.py:6070\u001b[0m, in \u001b[0;36mIndex._get_indexer_strict\u001b[1;34m(self, key, axis_name)\u001b[0m\n\u001b[0;32m   6067\u001b[0m \u001b[38;5;28;01melse\u001b[39;00m:\n\u001b[0;32m   6068\u001b[0m     keyarr, indexer, new_indexer \u001b[38;5;241m=\u001b[39m \u001b[38;5;28mself\u001b[39m\u001b[38;5;241m.\u001b[39m_reindex_non_unique(keyarr)\n\u001b[1;32m-> 6070\u001b[0m \u001b[38;5;28;43mself\u001b[39;49m\u001b[38;5;241;43m.\u001b[39;49m\u001b[43m_raise_if_missing\u001b[49m\u001b[43m(\u001b[49m\u001b[43mkeyarr\u001b[49m\u001b[43m,\u001b[49m\u001b[43m \u001b[49m\u001b[43mindexer\u001b[49m\u001b[43m,\u001b[49m\u001b[43m \u001b[49m\u001b[43maxis_name\u001b[49m\u001b[43m)\u001b[49m\n\u001b[0;32m   6072\u001b[0m keyarr \u001b[38;5;241m=\u001b[39m \u001b[38;5;28mself\u001b[39m\u001b[38;5;241m.\u001b[39mtake(indexer)\n\u001b[0;32m   6073\u001b[0m \u001b[38;5;28;01mif\u001b[39;00m \u001b[38;5;28misinstance\u001b[39m(key, Index):\n\u001b[0;32m   6074\u001b[0m     \u001b[38;5;66;03m# GH 42790 - Preserve name from an Index\u001b[39;00m\n",
      "File \u001b[1;32m~\\AppData\\Local\\Programs\\Python\\Python311\\Lib\\site-packages\\pandas\\core\\indexes\\base.py:6133\u001b[0m, in \u001b[0;36mIndex._raise_if_missing\u001b[1;34m(self, key, indexer, axis_name)\u001b[0m\n\u001b[0;32m   6130\u001b[0m     \u001b[38;5;28;01mraise\u001b[39;00m \u001b[38;5;167;01mKeyError\u001b[39;00m(\u001b[38;5;124mf\u001b[39m\u001b[38;5;124m\"\u001b[39m\u001b[38;5;124mNone of [\u001b[39m\u001b[38;5;132;01m{\u001b[39;00mkey\u001b[38;5;132;01m}\u001b[39;00m\u001b[38;5;124m] are in the [\u001b[39m\u001b[38;5;132;01m{\u001b[39;00maxis_name\u001b[38;5;132;01m}\u001b[39;00m\u001b[38;5;124m]\u001b[39m\u001b[38;5;124m\"\u001b[39m)\n\u001b[0;32m   6132\u001b[0m not_found \u001b[38;5;241m=\u001b[39m \u001b[38;5;28mlist\u001b[39m(ensure_index(key)[missing_mask\u001b[38;5;241m.\u001b[39mnonzero()[\u001b[38;5;241m0\u001b[39m]]\u001b[38;5;241m.\u001b[39munique())\n\u001b[1;32m-> 6133\u001b[0m \u001b[38;5;28;01mraise\u001b[39;00m \u001b[38;5;167;01mKeyError\u001b[39;00m(\u001b[38;5;124mf\u001b[39m\u001b[38;5;124m\"\u001b[39m\u001b[38;5;132;01m{\u001b[39;00mnot_found\u001b[38;5;132;01m}\u001b[39;00m\u001b[38;5;124m not in index\u001b[39m\u001b[38;5;124m\"\u001b[39m)\n",
      "\u001b[1;31mKeyError\u001b[0m: \"['windspeedKmph', 'winddirDegree', 'weatherCode', 'precipMM', 'visibility', 'pressure', 'DewPointF', 'cloudcover', 'WindGustKmph', 'tempF', 'WindChillF', 'humidity', 'time'] not in index\""
     ]
    }
   ],
   "source": [
    "df1 = df1.dropna()\n",
    "# Assume 'X' is your feature matrix and 'y' is your target variable\n",
    "\n",
    "\n",
    "column_list =[\"Year\", \"Month\", \"DayofMonth\", \"DepTime\", \"DepDel15\", \"CRSDepTime\", \"DepDelayMinutes\", \"OriginAirportID\", \"DestAirportID\", \"ArrTime\", \"CRSArrTime\",\"ArrDel15\", \"windspeedKmph\", \"winddirDegree\", \"weatherCode\", \"precipMM\", \"visibility\", \"pressure\", \"DewPointF\", \"cloudcover\", \"WindGustKmph\", \"tempF\", \"WindChillF\", \"humidity\", \"time\", \"ArrDelayMinutes\"]\n",
    "#df1[column_list] = df1[column_list].astype(float)\n",
    "\n",
    "X = df1[[\"Year\", \"Month\", \"DayofMonth\", \"DepTime\", \"DepDel15\", \"CRSDepTime\", \"DepDelayMinutes\", \"OriginAirportID\", \"DestAirportID\", \"ArrTime\", \"CRSArrTime\",\"ArrDel15\", \"windspeedKmph\", \"winddirDegree\", \"weatherCode\", \"precipMM\", \"visibility\", \"pressure\", \"DewPointF\", \"cloudcover\", \"WindGustKmph\", \"tempF\", \"WindChillF\", \"humidity\", \"time\"]]\n",
    "y = df1 [ \"ArrDelayMinutes\"]\n",
    "# Split the dataset into training and testing sets\n",
    "X_train, X_test, y_train, y_test = train_test_split(X, y, test_size=0.2, random_state=42)\n",
    "\n",
    "\n",
    "# reg = ExtraTreesRegressor(n_estimators=100, random_state=0).fit(X_train, y_train)\n",
    "# reg.score(X_test, y_test)\n",
    "\n",
    "# from sklearn.metrics import mean_squared_error, mean_absolute_error\n",
    "\n",
    "# # Assuming 'reg' is your trained regression model\n",
    "\n",
    "# # Predict on the testing set\n",
    "# y_pred = reg.predict(X_test)\n",
    "\n",
    "# # Calculate MSE, RMSE, and MAE\n",
    "# mse = mean_squared_error(y_test, y_pred)\n",
    "# rmse = np.sqrt(mse)\n",
    "# mae = mean_absolute_error(y_test, y_pred)\n",
    "\n",
    "# print(\"MSE:\", mse)\n",
    "# print(\"RMSE:\", rmse)\n",
    "# print(\"MAE:\", mae)\n",
    "\n",
    "\n",
    "\n",
    "# # Sample input data (X) and corresponding output data (y)\n",
    "\n",
    "\n",
    "# # Create an XGBoost regressor model\n",
    "# model = xgb.XGBRegressor()\n",
    "\n",
    "# # Fit the model to the training data\n",
    "# model.fit(X_train, y_train)\n",
    "\n",
    "# # Predict the output for the test data\n",
    "# y_pred = model.predict(X_test)\n",
    "\n",
    "# # Calculate mean squared error (MSE)\n",
    "# mse = mean_squared_error(y_test, y_pred)\n",
    "\n",
    "# # Print the predicted values for the test data\n",
    "# print(\"Predicted values:\", y_pred)\n",
    "\n",
    "# # Print the mean squared error\n",
    "# print(\"Mean Squared Error:\", mse)\n",
    "\n",
    "\n",
    "\n",
    "def bagging_regressor(X, y, num_models, test_size=0.2):\n",
    "    \"\"\"\n",
    "    Perform bagging ensemble for regression.\n",
    "\n",
    "    Parameters:\n",
    "        X (array-like): Input features.\n",
    "        y (array-like): Target values.\n",
    "        num_models (int): Number of individual models to train.\n",
    "        test_size (float, optional): Proportion of the data to use for testing (default: 0.2).\n",
    "\n",
    "    Returns:\n",
    "        ensemble_pred (array-like): Predictions from the ensemble.\n",
    "    \"\"\"\n",
    "    ensemble_pred = np.zeros_like(y)  # Array to store ensemble predictions\n",
    "\n",
    "    for _ in range(num_models):\n",
    "        # Randomly split the data into training and testing sets\n",
    "        X_train, X_test, y_train, y_test = train_test_split(X, y, test_size=test_size)\n",
    "\n",
    "        # Train your model on the training set\n",
    "        model = YourRegressor()  # Replace YourRegressor with your chosen regression model\n",
    "        model.fit(X_train, y_train)\n",
    "\n",
    "        # Make predictions on the testing set\n",
    "        y_pred = model.predict(X_test)\n",
    "\n",
    "        # Add the individual predictions to the ensemble predictions\n",
    "        ensemble_pred += y_pred\n",
    "\n",
    "    # Average the predictions of all the individual models\n",
    "    ensemble_pred /= num_models\n",
    "\n",
    "    return ensemble_pred\n",
    "\n",
    "ensemble_predictions = bagging_regressor(X, y, num_models)\n",
    "\n",
    "# Calculate and print the MSE\n",
    "mse = mean_squared_error(y, ensemble_predictions)\n",
    "print(f\"Mean Squared Error: {mse}\")\n"
   ]
  },
  {
   "cell_type": "code",
   "execution_count": null,
   "id": "355b3ed3",
   "metadata": {},
   "outputs": [],
   "source": []
  },
  {
   "cell_type": "code",
   "execution_count": null,
   "id": "6795fb9b",
   "metadata": {},
   "outputs": [],
   "source": []
  },
  {
   "cell_type": "code",
   "execution_count": null,
   "id": "445e2d7a",
   "metadata": {},
   "outputs": [],
   "source": []
  },
  {
   "cell_type": "code",
   "execution_count": null,
   "id": "4a45e5d0",
   "metadata": {},
   "outputs": [],
   "source": []
  },
  {
   "cell_type": "code",
   "execution_count": null,
   "id": "3a158119",
   "metadata": {},
   "outputs": [],
   "source": []
  },
  {
   "cell_type": "code",
   "execution_count": null,
   "id": "a011c798",
   "metadata": {},
   "outputs": [],
   "source": []
  }
 ],
 "metadata": {
  "kernelspec": {
   "display_name": "Python 3 (ipykernel)",
   "language": "python",
   "name": "python3"
  },
  "language_info": {
   "codemirror_mode": {
    "name": "ipython",
    "version": 3
   },
   "file_extension": ".py",
   "mimetype": "text/x-python",
   "name": "python",
   "nbconvert_exporter": "python",
   "pygments_lexer": "ipython3",
   "version": "3.11.1"
  }
 },
 "nbformat": 4,
 "nbformat_minor": 5
}
